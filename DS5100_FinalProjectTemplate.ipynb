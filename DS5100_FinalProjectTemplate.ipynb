{
 "cells": [
  {
   "cell_type": "markdown",
   "id": "45762487-d33f-486d-8e38-2cdea04e3528",
   "metadata": {},
   "source": [
    "# Final Project Report\n",
    "\n",
    "* Class: DS 5100\n",
    "* Student Name: Matt Lang\n",
    "* Student Net ID: yvy7zh\n",
    "* This URL: a URL to the notebook source of this document"
   ]
  },
  {
   "cell_type": "markdown",
   "id": "acf756c1-ecaa-41dc-b6ca-d566eb94560b",
   "metadata": {},
   "source": [
    "# Instructions\n",
    "\n",
    "Follow the instructions in the Final Project isntructions notebook and put evidence of your work in this notebook.\n",
    "\n",
    "Total points for each subsection under **Deliverables** and **Scenarios** are given in parentheses.\n",
    "\n",
    "Breakdowns of points within subsections are specified within subsection instructions as bulleted lists.\n",
    "\n",
    "This project is worth **50 points**."
   ]
  },
  {
   "cell_type": "markdown",
   "id": "89dc7a32-f682-4402-8c1e-b6ccdb3e0e39",
   "metadata": {},
   "source": [
    "# Deliverables"
   ]
  },
  {
   "cell_type": "markdown",
   "id": "d32cb273-9a40-4909-a7ce-51f6e4958d3c",
   "metadata": {},
   "source": [
    "## The Monte Carlo Module (10)\n",
    "\n",
    "- URL included, appropriately named (1).\n",
    "- Includes all three specified classes (3).\n",
    "- Includes at least all 12 specified methods (6; .5 each)."
   ]
  },
  {
   "cell_type": "markdown",
   "id": "f5f3b070-de9e-4de9-bfae-8974d184aa28",
   "metadata": {},
   "source": [
    "Put the URL to your GitHub repo here.\n",
    "\n",
    "Repo URL: https://github.com/mattlang108/MonteCarlo"
   ]
  },
  {
   "cell_type": "markdown",
   "id": "162370fb-3729-4c85-b040-8c25b2c966d2",
   "metadata": {},
   "source": [
    "Paste a copyy of your module here.\n",
    "\n",
    "NOTE: Paste as text, not as code. Use triple backticks to wrap your code blocks."
   ]
  },
  {
   "cell_type": "code",
   "execution_count": 14,
   "id": "a0743efc-a785-4b5c-a9e6-b65d4507a67f",
   "metadata": {},
   "outputs": [],
   "source": [
    "import numpy as np\n",
    "import pandas as pd\n",
    "import random\n",
    "import unittest\n",
    "\n",
    "class Die:\n",
    "    \"\"\"\n",
    "    A class representing a die with a set of faces and weights.\n",
    "    \n",
    "    Attributes:\n",
    "        faces (numpy.ndarray): The faces of the die.\n",
    "        weights (numpy.ndarray): The weights associated with each face. Defaults to 1.\n",
    "    \"\"\"\n",
    "    \n",
    "    def __init__(self, faces: np.ndarray):\n",
    "        \"\"\"\n",
    "        Initializes the Die object with a set of faces and default weights.\n",
    "        \n",
    "        Args:\n",
    "            faces (numpy.ndarray): A NumPy array containing the faces of the die.\n",
    "        \n",
    "        Raises:\n",
    "            TypeError: If faces is not a numpy array.\n",
    "            ValueError: If the faces are not unique.\n",
    "        \"\"\"\n",
    "        if not isinstance(faces, np.ndarray):\n",
    "            raise TypeError(\"Faces must be a NumPy array.\")\n",
    "        if len(faces) != len(set(faces)):\n",
    "            raise ValueError(\"Faces must be distinct.\")\n",
    "        \n",
    "        self.faces = faces\n",
    "        self.weights = np.ones(len(faces))\n",
    "        self.df = pd.DataFrame({'faces': faces, 'weights': self.weights}).set_index('faces')\n",
    "    \n",
    "    def change_weight(self, face, new_weight):\n",
    "        \"\"\"\n",
    "        Changes the weight of a specific face on the die.\n",
    "        \n",
    "        Args:\n",
    "            face (str or int): The face whose weight is to be changed.\n",
    "            new_weight (float): The new weight for the face.\n",
    "        \n",
    "        Raises:\n",
    "            IndexError: If the face is not found.\n",
    "            TypeError: If new_weight is not numeric.\n",
    "        \"\"\"\n",
    "        if face not in self.df.index:\n",
    "            raise IndexError(f\"Face {face} not found in die.\")\n",
    "        if not isinstance(new_weight, (int, float, np.int64)):\n",
    "            raise TypeError(\"Weight must be numeric.\")\n",
    "        self.df.loc[face, 'weights'] = new_weight\n",
    "    \n",
    "    def roll(self, times=1):\n",
    "        \"\"\"\n",
    "        Rolls the die a specified number of times, returning the outcome.\n",
    "        \n",
    "        Args:\n",
    "            times (int): The number of times to roll the die.\n",
    "        \n",
    "        Returns:\n",
    "            list: A list of rolled outcomes.\n",
    "        \"\"\"\n",
    "        return random.choices(self.df.index, weights=self.df['weights'], k=times)\n",
    "    \n",
    "    def show(self):\n",
    "        \"\"\"\n",
    "        Shows the current faces and their associated weights.\n",
    "        \n",
    "        Returns:\n",
    "            pandas.DataFrame: A DataFrame showing the faces and weights of the die.\n",
    "        \"\"\"\n",
    "        return self.df.copy()\n",
    "\n",
    "\n",
    "class Game:\n",
    "    \"\"\"\n",
    "    A class that simulates a dice game with multiple dice.\n",
    "    \n",
    "    Attributes:\n",
    "        dice (list): A list of Die objects.\n",
    "        play_data (pandas.DataFrame): Stores the results of the rolls.\n",
    "    \"\"\"\n",
    "    \n",
    "    def __init__(self, dice: list):\n",
    "        \"\"\"\n",
    "        Initializes the game with a list of dice.\n",
    "        \n",
    "        Args:\n",
    "            dice (list): A list of Die objects.\n",
    "        \n",
    "        Raises:\n",
    "            TypeError: If any element in dice is not a Die object.\n",
    "            ValueError: If the dice do not have the same faces.\n",
    "        \"\"\"\n",
    "        if not all(isinstance(die, Die) for die in dice):\n",
    "            raise TypeError(\"All elements must be Die objects\")\n",
    "        \n",
    "        faces_set = {tuple(die.faces) for die in dice}\n",
    "        if len(faces_set) != 1:\n",
    "            raise ValueError(\"All dice must have the same faces.\")\n",
    "        \n",
    "        self.dice = dice\n",
    "        self.play_data = None\n",
    "    \n",
    "    def play(self, num_rolls):\n",
    "        \"\"\"\n",
    "        Rolls all dice a specified number of times and stores the results.\n",
    "        \n",
    "        Args:\n",
    "            num_rolls (int): The number of times to roll all dice.\n",
    "        \"\"\"\n",
    "        results = {}\n",
    "        for idx, die in enumerate(self.dice):\n",
    "            results[idx] = die.roll(num_rolls)\n",
    "        self.play_data = pd.DataFrame(results)\n",
    "        return self.play_data\n",
    "    \n",
    "    def show_results(self, format='wide'):\n",
    "        \"\"\"\n",
    "        Returns the results of the rolls in either wide or narrow format.\n",
    "        \n",
    "        Args:\n",
    "            format (str): The format of the result, either 'wide' or 'narrow' (default is 'wide').\n",
    "        \n",
    "        Returns:\n",
    "            pandas.DataFrame: A DataFrame with the results in the specified format.\n",
    "        \n",
    "        Raises:\n",
    "            ValueError: If an invalid format is specified.\n",
    "        \"\"\"\n",
    "        if self.play_data is None:\n",
    "            raise ValueError(\"No results to show. Please play the game first.\")\n",
    "        if format == 'wide':\n",
    "            return self.play_data\n",
    "        elif format == 'narrow':\n",
    "            return self.play_data.stack().reset_index(name='Outcome').rename(columns={'level_0': 'Roll', 'level_1': 'Die'})\n",
    "        else:\n",
    "            raise ValueError(\"Invalid format specified\")\n",
    "\n",
    "\n",
    "class Analyzer:\n",
    "    \"\"\"\n",
    "    A class to analyze the results of a dice game.\n",
    "    \n",
    "    Attributes:\n",
    "        game (Game): The Game object that stores the results to analyze.\n",
    "        results (pandas.DataFrame): Stores the results of the game rolls.\n",
    "    \"\"\"\n",
    "    \n",
    "    def __init__(self, game: Game):\n",
    "        \"\"\"\n",
    "        Initializes the analyzer with a game.\n",
    "        \n",
    "        Args:\n",
    "            game (Game): A Game object.\n",
    "        \n",
    "        Raises:\n",
    "            ValueError: If the input is not a Game object.\n",
    "        \"\"\"\n",
    "        if not isinstance(game, Game):\n",
    "            raise ValueError(\"The input must be a Game object.\")\n",
    "        self.game = game\n",
    "        self.results = game.play_data\n",
    "    \n",
    "    def jackpot(self):\n",
    "        \"\"\"\n",
    "        Computes the number of jackpots (all faces the same).\n",
    "        \n",
    "        Returns:\n",
    "            int: The number of jackpots.\n",
    "        \"\"\"\n",
    "        return sum(self.results.nunique(axis=1) == 1)\n",
    "    \n",
    "    def face_counts_per_roll(self):\n",
    "        \"\"\"\n",
    "        Computes how many times each face is rolled in each event.\n",
    "        \n",
    "        Returns:\n",
    "            pandas.DataFrame: A DataFrame with face counts for each roll in wide format.\n",
    "        \"\"\"\n",
    "        return self.results.apply(lambda row: row.value_counts(), axis=1).fillna(0)\n",
    "    \n",
    "    def combo_count(self):\n",
    "        \"\"\"\n",
    "        Computes distinct combinations of faces rolled and their counts.\n",
    "        \n",
    "        Returns:\n",
    "            pandas.DataFrame: A DataFrame with combinations and counts, MultiIndex format.\n",
    "        \"\"\"\n",
    "        return self.results.apply(lambda row: pd.Series([tuple(sorted(row))]), axis=1).value_counts()\n",
    "    \n",
    "    def permutation_count(self):\n",
    "        \"\"\"\n",
    "        Computes distinct permutations of faces rolled and their counts.\n",
    "        \n",
    "        Returns:\n",
    "            pandas.DataFrame: A DataFrame with permutations and counts, MultiIndex format.\n",
    "        \"\"\"\n",
    "        return self.results.apply(lambda row: pd.Series([tuple(row)]), axis=1).value_counts()\n",
    "\n"
   ]
  },
  {
   "cell_type": "markdown",
   "id": "6377727a-8f0a-491e-9f1c-d9dc225edd35",
   "metadata": {},
   "source": [
    "## Unitest Module (2)\n",
    "\n",
    "Paste a copy of your test module below.\n",
    "\n",
    "NOTE: Paste as text, not as code. Use triple backticks to wrap your code blocks.\n",
    "\n",
    "- All methods have at least one test method (1).\n",
    "- Each method employs one of Unittest's Assert methods (1)."
   ]
  },
  {
   "cell_type": "code",
   "execution_count": 2,
   "id": "14b878d8-258b-4cf2-ad88-b8ee90d43977",
   "metadata": {},
   "outputs": [],
   "source": [
    "class TestDie(unittest.TestCase):\n",
    "    \n",
    "    def test_initialize_die(self):\n",
    "        die = Die(np.array([1, 2, 3, 4, 5, 6]))\n",
    "        self.assertEqual(die.show().shape[0], 6)\n",
    "        self.assertTrue(np.all(die.show()['weights'] == 1.0))\n",
    "    \n",
    "    def test_change_weight(self):\n",
    "        die = Die(np.array([1, 2, 3, 4, 5, 6]))\n",
    "        die.change_weight(3, 2.0)\n",
    "        self.assertEqual(die.show().loc[3, 'weights'], 2.0)\n",
    "    \n",
    "    def test_invalid_change_weight(self):\n",
    "        die = Die(np.array([1, 2, 3, 4, 5, 6]))\n",
    "        with self.assertRaises(IndexError):\n",
    "            die.change_weight(7, 2.0)\n",
    "        with self.assertRaises(TypeError):\n",
    "            die.change_weight(3, \"invalid\")\n",
    "    \n",
    "    def test_roll(self):\n",
    "        die = Die(np.array([1, 2, 3, 4, 5, 6]))\n",
    "        results = die.roll(5)\n",
    "        self.assertEqual(len(results), 5)\n",
    "        self.assertTrue(all(result in die.show().index for result in results))\n",
    "    \n",
    "    def test_show_state(self):\n",
    "        die = Die(np.array([1, 2, 3, 4, 5, 6]))\n",
    "        state = die.show()\n",
    "        self.assertEqual(state.shape[0], 6)\n",
    "        self.assertTrue(np.all(state['weights'] == 1.0))\n",
    "\n",
    "\n",
    "class TestGame(unittest.TestCase):\n",
    "    \n",
    "    def test_initialize_game(self):\n",
    "        die1 = Die(np.array([1, 2, 3, 4, 5, 6]))\n",
    "        game = Game([die1])\n",
    "        self.assertEqual(len(game.dice), 1)\n",
    "    \n",
    "    def test_play_game(self):\n",
    "        die1 = Die(np.array([1, 2, 3, 4, 5, 6]))\n",
    "        game = Game([die1])\n",
    "        result = game.play(5)\n",
    "        self.assertEqual(result.shape[0], 5)\n",
    "        self.assertEqual(result.shape[1], 1)\n",
    "    \n",
    "    def test_show_results_wide(self):\n",
    "        die1 = Die(np.array([1, 2, 3, 4, 5, 6]))\n",
    "        game = Game([die1])\n",
    "        game.play(5)\n",
    "        result = game.show_results(format='wide')\n",
    "        self.assertEqual(result.shape[0], 5)\n",
    "        self.assertEqual(result.shape[1], 1)\n",
    "    \n",
    "    def test_show_results_narrow(self):\n",
    "        die1 = Die(np.array([1, 2, 3, 4, 5, 6]))\n",
    "        game = Game([die1])\n",
    "        game.play(5)\n",
    "        result = game.show_results(format='narrow')\n",
    "        self.assertEqual(result.shape[0], 5)\n",
    "        self.assertEqual(result.shape[1], 3)\n",
    "\n",
    "\n",
    "class TestAnalyzer(unittest.TestCase):\n",
    "    \n",
    "    def test_analyze_jackpot(self):\n",
    "        die1 = Die(np.array([1, 2, 3, 4, 5, 6]))\n",
    "        game = Game([die1] * 5)\n",
    "        game.play(1000)\n",
    "        analyzer = Analyzer(game)\n",
    "        jackpot_count = analyzer.jackpot()\n",
    "        jackpot_rate = jackpot_count / 1000\n",
    "        self.assertGreaterEqual(jackpot_rate, 0)\n",
    "        self.assertLess(jackpot_rate, 0.05)\n",
    "    \n",
    "    def test_analyze_face_counts(self):\n",
    "        die1 = Die(np.array([1, 2, 3, 4, 5, 6]))\n",
    "        game = Game([die1])\n",
    "        game.play(5)\n",
    "        analyzer = Analyzer(game)\n",
    "        face_counts = analyzer.face_counts_per_roll()\n",
    "        self.assertEqual(face_counts.shape[0], 5)\n",
    "    \n",
    "    def test_analyze_combos(self):\n",
    "        die1 = Die(np.array([1, 2, 3, 4, 5, 6]))\n",
    "        game = Game([die1])\n",
    "        game.play(5)\n",
    "        analyzer = Analyzer(game)\n",
    "        combos = analyzer.combo_count()\n",
    "        self.assertTrue(combos.shape[0] > 0)\n",
    "\n",
    "# Running the tests\n",
    "if __name__ == '__main__':\n",
    "    unittest.TextTestRunner().run(unittest.TestLoader().loadTestsFromTestCase(TestDie))\n",
    "    unittest.TextTestRunner().run(unittest.TestLoader().loadTestsFromTestCase(TestGame))\n",
    "    unittest.TextTestRunner().run(unittest.TestLoader().loadTestsFromTestCase(TestAnalyzer))"
   ]
  },
  {
   "cell_type": "markdown",
   "id": "3e058d03-29bc-408f-b36d-0605b4f4b8c0",
   "metadata": {
    "tags": []
   },
   "source": [
    "## Unittest Results (3)\n",
    "\n",
    "Put a copy of the results of running your tests from the command line here.\n",
    "\n",
    "Again, paste as text using triple backticks.\n",
    "\n",
    "- All 12 specified methods return OK (3; .25 each)."
   ]
  },
  {
   "cell_type": "raw",
   "id": "54691fd0-836c-43c7-adc9-4a09d8aa9ab2",
   "metadata": {
    "tags": []
   },
   "source": [
    ".....\n",
    "----------------------------------------------------------------------\n",
    "Ran 5 tests in 0.005s\n",
    "\n",
    "OK\n",
    "....\n",
    "----------------------------------------------------------------------\n",
    "Ran 4 tests in 0.004s\n",
    "\n",
    "OK\n",
    "...\n",
    "----------------------------------------------------------------------\n",
    "Ran 3 tests in 0.043s\n",
    "\n",
    "OK"
   ]
  },
  {
   "cell_type": "markdown",
   "id": "d9ffe8c5-eb2f-4ad1-af76-a46550e4c7ac",
   "metadata": {},
   "source": [
    "## Import (1)\n",
    "\n",
    "Import your module here. This import should refer to the code in your package directory.\n",
    "\n",
    "- Module successuflly imported (1)."
   ]
  },
  {
   "cell_type": "code",
   "execution_count": 10,
   "id": "a05dffb3-e6d6-4f78-9df4-5abd0cf74ca9",
   "metadata": {
    "tags": []
   },
   "outputs": [],
   "source": [
    "import import_ipynb\n",
    "import montecarlo"
   ]
  },
  {
   "cell_type": "markdown",
   "id": "f30c4842-65b1-4556-98b6-3fe1a07e1371",
   "metadata": {},
   "source": [
    "## Help Docs (4)\n",
    "\n",
    "Show your docstring documentation by applying `help()` to your imported module.\n",
    "\n",
    "- All methods have a docstring (3; .25 each).\n",
    "- All classes have a docstring (1; .33 each)."
   ]
  },
  {
   "cell_type": "code",
   "execution_count": 11,
   "id": "e7a9f48b-03a5-435e-98b3-20753326c916",
   "metadata": {
    "tags": []
   },
   "outputs": [],
   "source": [
    "from montecarlo import Die"
   ]
  },
  {
   "cell_type": "code",
   "execution_count": 43,
   "id": "fc5de4d3-f467-4ee2-86ca-02a55d6fafd7",
   "metadata": {
    "tags": []
   },
   "outputs": [
    {
     "name": "stdout",
     "output_type": "stream",
     "text": [
      "Help on class Die in module montecarlo:\n",
      "\n",
      "class Die(builtins.object)\n",
      " |  Die(faces: numpy.ndarray)\n",
      " |  \n",
      " |  A class representing a die with a set of faces and weights.\n",
      " |  \n",
      " |  Attributes:\n",
      " |      faces (numpy.ndarray): The faces of the die.\n",
      " |      weights (numpy.ndarray): The weights associated with each face. Defaults to 1.\n",
      " |  \n",
      " |  Methods defined here:\n",
      " |  \n",
      " |  __init__(self, faces: numpy.ndarray)\n",
      " |      Initializes the Die object with a set of faces and default weights.\n",
      " |      \n",
      " |      Args:\n",
      " |          faces (numpy.ndarray): A NumPy array containing the faces of the die.\n",
      " |      \n",
      " |      Raises:\n",
      " |          TypeError: If faces is not a numpy array.\n",
      " |          ValueError: If the faces are not unique.\n",
      " |  \n",
      " |  change_weight(self, face, new_weight)\n",
      " |      Changes the weight of a specific face on the die.\n",
      " |      \n",
      " |      Args:\n",
      " |          face (str or int): The face whose weight is to be changed.\n",
      " |          new_weight (float): The new weight for the face.\n",
      " |      \n",
      " |      Raises:\n",
      " |          IndexError: If the face is not found.\n",
      " |          TypeError: If new_weight is not numeric.\n",
      " |  \n",
      " |  roll(self, times=1)\n",
      " |      Rolls the die a specified number of times, returning the outcome.\n",
      " |      \n",
      " |      Args:\n",
      " |          times (int): The number of times to roll the die.\n",
      " |      \n",
      " |      Returns:\n",
      " |          list: A list of rolled outcomes.\n",
      " |  \n",
      " |  show(self)\n",
      " |      Shows the current faces and their associated weights.\n",
      " |      \n",
      " |      Returns:\n",
      " |          pandas.DataFrame: A DataFrame showing the faces and weights of the die.\n",
      " |  \n",
      " |  ----------------------------------------------------------------------\n",
      " |  Data descriptors defined here:\n",
      " |  \n",
      " |  __dict__\n",
      " |      dictionary for instance variables (if defined)\n",
      " |  \n",
      " |  __weakref__\n",
      " |      list of weak references to the object (if defined)\n",
      "\n",
      "Help on class Game in module montecarlo:\n",
      "\n",
      "class Game(builtins.object)\n",
      " |  Game(dice: list)\n",
      " |  \n",
      " |  A class that simulates a dice game with multiple dice.\n",
      " |  \n",
      " |  Attributes:\n",
      " |      dice (list): A list of Die objects.\n",
      " |      play_data (pandas.DataFrame): Stores the results of the rolls.\n",
      " |  \n",
      " |  Methods defined here:\n",
      " |  \n",
      " |  __init__(self, dice: list)\n",
      " |      Initializes the game with a list of dice.\n",
      " |      \n",
      " |      Args:\n",
      " |          dice (list): A list of Die objects.\n",
      " |      \n",
      " |      Raises:\n",
      " |          TypeError: If any element in dice is not a Die object.\n",
      " |          ValueError: If the dice do not have the same faces.\n",
      " |  \n",
      " |  play(self, num_rolls)\n",
      " |      Rolls all dice a specified number of times and stores the results.\n",
      " |      \n",
      " |      Args:\n",
      " |          num_rolls (int): The number of times to roll all dice.\n",
      " |  \n",
      " |  show_results(self, format='wide')\n",
      " |      Returns the results of the rolls in either wide or narrow format.\n",
      " |      \n",
      " |      Args:\n",
      " |          format (str): The format of the result, either 'wide' or 'narrow' (default is 'wide').\n",
      " |      \n",
      " |      Returns:\n",
      " |          pandas.DataFrame: A DataFrame with the results in the specified format.\n",
      " |      \n",
      " |      Raises:\n",
      " |          ValueError: If an invalid format is specified.\n",
      " |  \n",
      " |  ----------------------------------------------------------------------\n",
      " |  Data descriptors defined here:\n",
      " |  \n",
      " |  __dict__\n",
      " |      dictionary for instance variables (if defined)\n",
      " |  \n",
      " |  __weakref__\n",
      " |      list of weak references to the object (if defined)\n",
      "\n",
      "Help on class Analyzer in module montecarlo:\n",
      "\n",
      "class Analyzer(builtins.object)\n",
      " |  Analyzer(game: montecarlo.Game)\n",
      " |  \n",
      " |  A class to analyze the results of a dice game.\n",
      " |  \n",
      " |  Attributes:\n",
      " |      game (Game): The Game object that stores the results to analyze.\n",
      " |      results (pandas.DataFrame): Stores the results of the game rolls.\n",
      " |  \n",
      " |  Methods defined here:\n",
      " |  \n",
      " |  __init__(self, game: montecarlo.Game)\n",
      " |      Initializes the analyzer with a game.\n",
      " |      \n",
      " |      Args:\n",
      " |          game (Game): A Game object.\n",
      " |      \n",
      " |      Raises:\n",
      " |          ValueError: If the input is not a Game object.\n",
      " |  \n",
      " |  combo_count(self)\n",
      " |      Computes distinct combinations of faces rolled and their counts.\n",
      " |      \n",
      " |      Returns:\n",
      " |          pandas.DataFrame: A DataFrame with combinations and counts, MultiIndex format.\n",
      " |  \n",
      " |  face_counts_per_roll(self)\n",
      " |      Computes how many times each face is rolled in each event.\n",
      " |      \n",
      " |      Returns:\n",
      " |          pandas.DataFrame: A DataFrame with face counts for each roll in wide format.\n",
      " |  \n",
      " |  jackpot(self)\n",
      " |      Computes the number of jackpots (all faces the same).\n",
      " |      \n",
      " |      Returns:\n",
      " |          int: The number of jackpots.\n",
      " |  \n",
      " |  permutation_count(self)\n",
      " |      Computes distinct permutations of faces rolled and their counts.\n",
      " |      \n",
      " |      Returns:\n",
      " |          pandas.DataFrame: A DataFrame with permutations and counts, MultiIndex format.\n",
      " |  \n",
      " |  ----------------------------------------------------------------------\n",
      " |  Data descriptors defined here:\n",
      " |  \n",
      " |  __dict__\n",
      " |      dictionary for instance variables (if defined)\n",
      " |  \n",
      " |  __weakref__\n",
      " |      list of weak references to the object (if defined)\n",
      "\n"
     ]
    }
   ],
   "source": [
    "help(montecarlo.Die)\n",
    "help(montecarlo.Game)\n",
    "help(montecarlo.Analyzer)"
   ]
  },
  {
   "cell_type": "markdown",
   "id": "a9defa84-b395-4966-bd1c-5c6c2bb7ed68",
   "metadata": {},
   "source": [
    "## `README.md` File (3)\n",
    "\n",
    "Provide link to the README.md file of your project's repo.\n",
    "\n",
    "- Metadata section or info present (1).\n",
    "- Synopsis section showing how each class is called (1). (All must be included.)\n",
    "- API section listing all classes and methods (1). (All must be included.)"
   ]
  },
  {
   "cell_type": "markdown",
   "id": "ee090b33-d593-48a0-bf35-e739cea0942c",
   "metadata": {},
   "source": [
    "URL: https://github.com/mattlang108/MonteCarlo/blob/main/README.md"
   ]
  },
  {
   "cell_type": "markdown",
   "id": "108604c8-8827-42ef-ab59-6b25428fc0ca",
   "metadata": {},
   "source": [
    "## Successful installation (2)\n",
    "\n",
    "Put a screenshot or paste a copy of a terminal session where you successfully install your module with pip.\n",
    "\n",
    "If pasting text, use a preformatted text block to show the results.\n",
    "\n",
    "- Installed with `pip` (1).\n",
    "- Successfully installed message appears (1)."
   ]
  },
  {
   "cell_type": "raw",
   "id": "1278db6a-aa53-4e5c-a749-93a87ab239e0",
   "metadata": {},
   "source": [
    "```text\n",
    "Welcome to UVA_HPC\n",
    "-bash-4.4$ cd MonteCarlo\n",
    "-bash-4.4$ pwd\n",
    "/home/yvy7zh/MonteCarlo\n",
    "-bash-4.4$ pip install .\n",
    "Defaulting to user installation because normal site-packages is not writeable\n",
    "ERROR: Directory '.' is not installable. Neither 'setup.py' nor 'pyproject.toml' found.\n",
    "-bash-4.4$ nano setup.py\n",
    "-bash-4.4$ pwd\n",
    "/home/yvy7zh/MonteCarlo\n",
    "-bash-4.4$ pip install .\n",
    "Defaulting to user installation because normal site-packages is not writeable\n",
    "Processing /sfs/gpfs/tardis/home/yvy7zh/MonteCarlo\n",
    "  Preparing metadata (setup.py) ... done\n",
    "Using legacy 'setup.py install' for MonteCarlo, since package 'wheel' is not installed.\n",
    "Installing collected packages: MonteCarlo\n",
    "    Running setup.py install for MonteCarlo ... done\n",
    "Successfully installed MonteCarlo-1.0\n",
    "-bash-4.4$\n",
    "```"
   ]
  },
  {
   "cell_type": "markdown",
   "id": "7c44695d-d1b3-4edf-9f94-e64d7446f199",
   "metadata": {},
   "source": [
    "# Scenarios\n",
    "\n",
    "Use code blocks to perform the tasks for each scenario.\n",
    "\n",
    "Be sure the outputs are visible before submitting."
   ]
  },
  {
   "cell_type": "markdown",
   "id": "e2479eae-6fc9-44cd-b8d7-9b22cb501f2a",
   "metadata": {
    "tags": []
   },
   "source": [
    "## Scenario 1: A 2-headed Coin (9)\n",
    "\n",
    "Task 1. Create a fair coin (with faces $H$ and $T$) and one unfair coin in which one of the faces has a weight of $5$ and the others $1$.\n",
    "\n",
    "- Fair coin created (1).\n",
    "- Unfair coin created with weight as specified (1)."
   ]
  },
  {
   "cell_type": "code",
   "execution_count": 18,
   "id": "55ce498e-c75f-4425-9e3e-b635bd6cd9e1",
   "metadata": {},
   "outputs": [
    {
     "name": "stdout",
     "output_type": "stream",
     "text": [
      "Fair Coin Faces:        weights\n",
      "faces         \n",
      "H          1.0\n",
      "T          1.0\n",
      "Unfair Coin Faces:        weights\n",
      "faces         \n",
      "H          5.0\n",
      "T          1.0\n"
     ]
    }
   ],
   "source": [
    "import numpy as np\n",
    "from montecarlo import Die\n",
    "\n",
    "fair_coin_faces = np.array(['H', 'T'])\n",
    "fair_coin = Die(fair_coin_faces)\n",
    "\n",
    "unfair_coin_faces = np.array(['H', 'T'])\n",
    "unfair_coin = Die(unfair_coin_faces)\n",
    "unfair_coin.change_weight('H', 5)\n",
    "\n",
    "print(f\"Fair Coin Faces: {fair_coin.show()}\")\n",
    "print(f\"Unfair Coin Faces: {unfair_coin.show()}\")"
   ]
  },
  {
   "cell_type": "markdown",
   "id": "02b272ab-99da-4b6e-ac2a-555b73e09c07",
   "metadata": {},
   "source": [
    "Task 2. Play a game of $1000$ flips with two fair dice.\n",
    "\n",
    "- Play method called correclty and without error (1)."
   ]
  },
  {
   "cell_type": "code",
   "execution_count": 19,
   "id": "65c92601-d32d-4326-b215-74953aee27f2",
   "metadata": {},
   "outputs": [
    {
     "name": "stdout",
     "output_type": "stream",
     "text": [
      "Fair Game Results:\n",
      "    0  1\n",
      "0  T  H\n",
      "1  H  H\n",
      "2  T  H\n",
      "3  T  H\n",
      "4  H  H\n"
     ]
    }
   ],
   "source": [
    "from montecarlo import Game\n",
    "\n",
    "game_fair = Game([fair_coin, fair_coin])\n",
    "\n",
    "results_fair = game_fair.play(1000)\n",
    "print(\"Fair Game Results:\\n\", results_fair.head())"
   ]
  },
  {
   "cell_type": "markdown",
   "id": "7d9c3dc8-22c1-4cae-81fb-d68d774a05d1",
   "metadata": {},
   "source": [
    "Task 3. Play another game (using a new Game object) of $1000$ flips, this time using two unfair dice and one fair die. For the second unfair die, you can use the same die object twice in the list of dice you pass to the Game object.\n",
    "\n",
    "- New game object created (1).\n",
    "- Play method called correclty and without error (1)."
   ]
  },
  {
   "cell_type": "code",
   "execution_count": 20,
   "id": "d4098bed-1eb2-4084-8d5e-9fda07c3be43",
   "metadata": {},
   "outputs": [
    {
     "name": "stdout",
     "output_type": "stream",
     "text": [
      "Unfair Game Results:\n",
      "    0  1  2\n",
      "0  H  H  T\n",
      "1  H  H  H\n",
      "2  H  H  T\n",
      "3  H  H  T\n",
      "4  H  H  T\n"
     ]
    }
   ],
   "source": [
    "game_unfair = Game([unfair_coin, unfair_coin, fair_coin])\n",
    "\n",
    "results_unfair = game_unfair.play(1000)\n",
    "print(\"Unfair Game Results:\\n\", results_unfair.head())"
   ]
  },
  {
   "cell_type": "markdown",
   "id": "f690ebfc-fe71-4eb2-976d-7ac80ca6c23f",
   "metadata": {},
   "source": [
    "Task 4. For each game, use an Analyzer object to determine the raw frequency of jackpots — i.e. getting either all $H$s or all $T$s.\n",
    "\n",
    "- Analyzer objecs instantiated for both games (1).\n",
    "- Raw frequencies reported for both (1)."
   ]
  },
  {
   "cell_type": "code",
   "execution_count": 21,
   "id": "b26b8b7e-3be7-4476-a9a4-37d97536729e",
   "metadata": {},
   "outputs": [
    {
     "name": "stdout",
     "output_type": "stream",
     "text": [
      "Jackpot Frequency for Fair Game: 486\n",
      "Jackpot Frequency for Unfair Game: 363\n"
     ]
    }
   ],
   "source": [
    "from montecarlo import Analyzer\n",
    "\n",
    "analyzer_fair = Analyzer(game_fair)\n",
    "jackpot_fair = analyzer_fair.jackpot()\n",
    "print(f\"Jackpot Frequency for Fair Game: {jackpot_fair}\")\n",
    "\n",
    "analyzer_unfair = Analyzer(game_unfair)\n",
    "jackpot_unfair = analyzer_unfair.jackpot()\n",
    "print(f\"Jackpot Frequency for Unfair Game: {jackpot_unfair}\")"
   ]
  },
  {
   "cell_type": "markdown",
   "id": "b73d233c-445e-40cd-8858-0c5e1f097105",
   "metadata": {},
   "source": [
    "Task 5. For each analyzer, compute relative frequency as the number of jackpots over the total number of rolls.\n",
    "\n",
    "- Both relative frequencies computed (1)."
   ]
  },
  {
   "cell_type": "code",
   "execution_count": 22,
   "id": "9a96b31b-1b9d-496e-be3e-4bf83c45ec3a",
   "metadata": {},
   "outputs": [
    {
     "name": "stdout",
     "output_type": "stream",
     "text": [
      "Relative Frequency for Fair Game: 0.486\n",
      "Relative Frequency for Unfair Game: 0.363\n"
     ]
    }
   ],
   "source": [
    "relative_fair = jackpot_fair / 1000\n",
    "relative_unfair = jackpot_unfair / 1000\n",
    "\n",
    "print(f\"Relative Frequency for Fair Game: {relative_fair}\")\n",
    "print(f\"Relative Frequency for Unfair Game: {relative_unfair}\")"
   ]
  },
  {
   "cell_type": "markdown",
   "id": "a6e1e734-7f5c-4721-8ba4-2f3a424cf984",
   "metadata": {},
   "source": [
    "Task 6. Show your results, comparing the two relative frequencies, in a simple bar chart.\n",
    "\n",
    "- Bar chart plotted and correct (1)."
   ]
  },
  {
   "cell_type": "code",
   "execution_count": 23,
   "id": "473fa67c-aa53-4aa3-a0b7-e8772b3f6ed3",
   "metadata": {},
   "outputs": [
    {
     "data": {
      "image/png": "[encoded data removed]",
      "text/plain": [
       "<Figure size 640x480 with 1 Axes>"
      ]
     },
     "metadata": {},
     "output_type": "display_data"
    }
   ],
   "source": [
    "import matplotlib.pyplot as plt\n",
    "\n",
    "labels = ['Fair Coin', 'Unfair Coin']\n",
    "values = [relative_fair, relative_unfair]\n",
    "\n",
    "plt.bar(labels, values)\n",
    "plt.ylabel('Relative Frequency of Jackpots')\n",
    "plt.title('Comparison of Jackpot Frequencies')\n",
    "plt.show()"
   ]
  },
  {
   "cell_type": "markdown",
   "id": "725cfa5b-e4b7-47c9-86aa-8d9e1fe6c8c7",
   "metadata": {},
   "source": [
    "## Scenario 2: A 6-sided Die (9)\n",
    "\n",
    "Task 1. Create three dice, each with six sides having the faces 1 through 6.\n",
    "\n",
    "- Three die objects created (1)."
   ]
  },
  {
   "cell_type": "code",
   "execution_count": 24,
   "id": "6a8bc611-325a-4e05-88d5-980e0a2cf7c5",
   "metadata": {},
   "outputs": [
    {
     "name": "stdout",
     "output_type": "stream",
     "text": [
      "Dice 1:        weights\n",
      "faces         \n",
      "1          1.0\n",
      "2          1.0\n",
      "3          1.0\n",
      "4          1.0\n",
      "5          1.0\n",
      "6          1.0\n",
      "Dice 2:        weights\n",
      "faces         \n",
      "1          1.0\n",
      "2          1.0\n",
      "3          1.0\n",
      "4          1.0\n",
      "5          1.0\n",
      "6          1.0\n",
      "Dice 3:        weights\n",
      "faces         \n",
      "1          1.0\n",
      "2          1.0\n",
      "3          1.0\n",
      "4          1.0\n",
      "5          1.0\n",
      "6          1.0\n"
     ]
    }
   ],
   "source": [
    "dice_1 = Die(np.array([1, 2, 3, 4, 5, 6]))\n",
    "dice_2 = Die(np.array([1, 2, 3, 4, 5, 6]))\n",
    "dice_3 = Die(np.array([1, 2, 3, 4, 5, 6]))\n",
    "\n",
    "print(f\"Dice 1: {dice_1.show()}\")\n",
    "print(f\"Dice 2: {dice_2.show()}\")\n",
    "print(f\"Dice 3: {dice_3.show()}\")"
   ]
  },
  {
   "cell_type": "markdown",
   "id": "2ed3ad26-fbe9-43bd-9ad7-f683a4191d12",
   "metadata": {},
   "source": [
    "Task 2. Convert one of the dice to an unfair one by weighting the face $6$ five times more than the other weights (i.e. it has weight of 5 and the others a weight of 1 each).\n",
    "\n",
    "- Unfair die created with proper call to weight change method (1)."
   ]
  },
  {
   "cell_type": "code",
   "execution_count": 30,
   "id": "e33dd18f-7f90-456d-a680-61c08a328e21",
   "metadata": {},
   "outputs": [
    {
     "name": "stdout",
     "output_type": "stream",
     "text": [
      "Unfair Dice 2:        weights\n",
      "faces         \n",
      "1          1.0\n",
      "2          1.0\n",
      "3          1.0\n",
      "4          1.0\n",
      "5          1.0\n",
      "6          5.0\n"
     ]
    }
   ],
   "source": [
    "dice_2.change_weight(6, 5)\n",
    "print(f\"Unfair Dice 2: {dice_2.show()}\")"
   ]
  },
  {
   "cell_type": "markdown",
   "id": "7f6c062a-4c5b-45b9-96b8-76a0354c7e47",
   "metadata": {},
   "source": [
    "Task 3. Convert another of the dice to be unfair by weighting the face $1$ five times more than the others.\n",
    "\n",
    "- Unfair die created with proper call to weight change method (1)."
   ]
  },
  {
   "cell_type": "code",
   "execution_count": 33,
   "id": "01133a4e-6b06-4246-8d90-8e6d6995be51",
   "metadata": {},
   "outputs": [
    {
     "name": "stdout",
     "output_type": "stream",
     "text": [
      "Unfair Dice 3:        weights\n",
      "faces         \n",
      "1          5.0\n",
      "2          1.0\n",
      "3          1.0\n",
      "4          1.0\n",
      "5          1.0\n",
      "6          1.0\n"
     ]
    }
   ],
   "source": [
    "dice_3.change_weight(1, 5)\n",
    "print(f\"Unfair Dice 3: {dice_3.show()}\")"
   ]
  },
  {
   "cell_type": "markdown",
   "id": "f0ed31cb-0a3c-4eb2-b85e-6ed6b2eb6e58",
   "metadata": {},
   "source": [
    "Task 4. Play a game of $10000$ rolls with $5$ fair dice.\n",
    "\n",
    "- Game class properly instantiated (1). \n",
    "- Play method called properly (1)."
   ]
  },
  {
   "cell_type": "code",
   "execution_count": 34,
   "id": "e92395a4-9ed8-4cb0-8c85-38768a784ffc",
   "metadata": {},
   "outputs": [
    {
     "name": "stdout",
     "output_type": "stream",
     "text": [
      "Five Fair Dice Results:\n",
      "    0  1  2  3  4\n",
      "0  4  2  3  3  6\n",
      "1  2  6  1  5  6\n",
      "2  5  2  1  5  3\n",
      "3  3  1  1  6  4\n",
      "4  2  4  1  3  6\n"
     ]
    }
   ],
   "source": [
    "game_five_fair = Game([dice_1, dice_2, dice_3, dice_1, dice_2])\n",
    "results_five_fair = game_five_fair.play(10000)\n",
    "print(\"Five Fair Dice Results:\\n\", results_five_fair.head())"
   ]
  },
  {
   "cell_type": "markdown",
   "id": "7814b402-46a4-40e5-8141-20e05c3e646b",
   "metadata": {},
   "source": [
    "Task 5. Play another game of $10000$ rolls, this time with $2$ unfair dice, one as defined in steps #2 and #3 respectively, and $3$ fair dice.\n",
    "\n",
    "- Game class properly instantiated (1). \n",
    "- Play method called properly (1)."
   ]
  },
  {
   "cell_type": "code",
   "execution_count": 35,
   "id": "7cd58fba-b2a5-4d5d-bc6d-2a7a68d18c4f",
   "metadata": {},
   "outputs": [
    {
     "name": "stdout",
     "output_type": "stream",
     "text": [
      "Five Dice (with Unfair) Results:\n",
      "    0  1  2  3  4\n",
      "0  4  1  1  4  1\n",
      "1  5  2  1  5  2\n",
      "2  2  5  1  6  4\n",
      "3  3  1  2  3  1\n",
      "4  6  1  2  1  6\n"
     ]
    }
   ],
   "source": [
    "game_five_unfair = Game([dice_2, dice_3, dice_1, dice_2, dice_3])\n",
    "results_five_unfair = game_five_unfair.play(10000)\n",
    "print(\"Five Dice (with Unfair) Results:\\n\", results_five_unfair.head())"
   ]
  },
  {
   "cell_type": "markdown",
   "id": "7b6cd372-2bb8-4df8-ade1-8f48bc300955",
   "metadata": {},
   "source": [
    "Task 6. For each game, use an Analyzer object to determine the relative frequency of jackpots and show your results, comparing the two relative frequencies, in a simple bar chart.\n",
    "\n",
    "- Jackpot methods called (1).\n",
    "- Graph produced (1)."
   ]
  },
  {
   "cell_type": "code",
   "execution_count": 36,
   "id": "bbdcf695-8937-406e-9b53-aa0b9ee3c59a",
   "metadata": {},
   "outputs": [
    {
     "data": {
      "image/png": "[encoded data removed]",
      "text/plain": [
       "<Figure size 640x480 with 1 Axes>"
      ]
     },
     "metadata": {},
     "output_type": "display_data"
    }
   ],
   "source": [
    "analyzer_five_fair = Analyzer(game_five_fair)\n",
    "jackpot_five_fair = analyzer_five_fair.jackpot()\n",
    "\n",
    "analyzer_five_unfair = Analyzer(game_five_unfair)\n",
    "jackpot_five_unfair = analyzer_five_unfair.jackpot()\n",
    "\n",
    "relative_five_fair = jackpot_five_fair / 10000\n",
    "relative_five_unfair = jackpot_five_unfair / 10000\n",
    "\n",
    "labels = ['Five Fair Dice', 'Five Unfair Dice']\n",
    "values = [relative_five_fair, relative_five_unfair]\n",
    "\n",
    "plt.bar(labels, values)\n",
    "plt.ylabel('Relative Frequency of Jackpots')\n",
    "plt.title('Comparison of Jackpot Frequencies (Five Dice)')\n",
    "plt.show()"
   ]
  },
  {
   "cell_type": "markdown",
   "id": "9f04e9be-8fcf-4ea4-a391-6614608285f8",
   "metadata": {},
   "source": [
    "## Scenario 3: Letters of the Alphabet (7)\n",
    "\n",
    "Task 1. Create a \"die\" of letters from $A$ to $Z$ with weights based on their frequency of usage as found in the data file `english_letters.txt`. Use the frequencies (i.e. raw counts) as weights.\n",
    "\n",
    "- Die correctly instantiated with source file data (1).\n",
    "- Weights properly applied using weight setting method (1)."
   ]
  },
  {
   "cell_type": "code",
   "execution_count": 56,
   "id": "b0ceb771-3cdf-4d8f-8c2c-020806bbb909",
   "metadata": {},
   "outputs": [
    {
     "name": "stdout",
     "output_type": "stream",
     "text": [
      "['E' 'T' 'A' 'O' 'I' 'N' 'S' 'R' 'H' 'L' 'D' 'C' 'U' 'M' 'F' 'G' 'P' 'W'\n",
      " 'Y' 'B' 'V' 'K' 'J' 'X' 'Z' 'Q']\n",
      "[529117365 390965105 374061888 326627740 320410057 313720540 294300210\n",
      " 277000841 216768975 183996130 169330528 138416451 117295780 110504544\n",
      "  95422055  91258980  90376747  79843664  75294515  70195826  46337161\n",
      "  35373464   9613410   8369915   4975847   4550166]\n"
     ]
    }
   ],
   "source": [
    "with open('english_letters.txt') as file:\n",
    "    letter_freq = file.read().splitlines()\n",
    "\n",
    "letters = []\n",
    "weights = []\n",
    "\n",
    "for line in letter_freq:\n",
    "    letter, freq = line.split()\n",
    "    letters.append(letter)\n",
    "    weights.append(int(freq))\n",
    "\n",
    "letters = np.array(letters)\n",
    "weights = np.array(weights)\n",
    "\n",
    "print(letters)\n",
    "print(weights)"
   ]
  },
  {
   "cell_type": "markdown",
   "id": "88e2e14a-6223-470a-a2c8-bca1120d7a5b",
   "metadata": {},
   "source": [
    "Task 2. Play a game involving $4$ of these dice with $1000$ rolls.\n",
    "\n",
    "- Game play method properly called (1)."
   ]
  },
  {
   "cell_type": "code",
   "execution_count": 58,
   "id": "2ae087cc-936d-4f1e-bddb-a7c179d139e0",
   "metadata": {},
   "outputs": [
    {
     "name": "stdout",
     "output_type": "stream",
     "text": [
      "Game Results (first 10 rolls):\n",
      "[['N', 'L', 'A', 'O'], ['T', 'O', 'G', 'N'], ['E', 'Y', 'I', 'E'], ['E', 'U', 'T', 'L'], ['Y', 'E', 'U', 'S'], ['E', 'N', 'B', 'N'], ['D', 'B', 'B', 'I'], ['U', 'W', 'D', 'E'], ['E', 'N', 'E', 'C'], ['U', 'R', 'E', 'A']]\n",
      "Total rolls: 1000\n"
     ]
    }
   ],
   "source": [
    "with open('english_letters.txt') as file:\n",
    "    letter_freq = file.read().splitlines()\n",
    "\n",
    "letters = []\n",
    "weights = []\n",
    "\n",
    "for line in letter_freq:\n",
    "    letter, freq = line.split()\n",
    "    letters.append(letter)\n",
    "    weights.append(int(freq))\n",
    "\n",
    "letters = np.array(letters)\n",
    "weights = np.array(weights)\n",
    "\n",
    "def roll_die(faces, weights):\n",
    "    return random.choices(faces, weights=weights, k=1)[0]\n",
    "\n",
    "def play_game(letters, weights, num_rolls=1000, num_dice=4):\n",
    "    results = []\n",
    "    for _ in range(num_rolls):\n",
    "        roll_result = [roll_die(letters, weights) for _ in range(num_dice)]\n",
    "        results.append(roll_result)\n",
    "    return results\n",
    "\n",
    "game_results = play_game(letters, weights, num_rolls=1000, num_dice=4)\n",
    "\n",
    "print(\"Game Results (first 10 rolls):\")\n",
    "print(game_results[:10])\n",
    "print(f\"Total rolls: {len(game_results)}\")"
   ]
  },
  {
   "cell_type": "markdown",
   "id": "3b9ff800-bf1f-4f66-9d7f-ff57a648e9f0",
   "metadata": {},
   "source": [
    "Task 3. Determine how many permutations in your results are actual English words, based on the vocabulary found in `scrabble_words.txt`.\n",
    "\n",
    "- Use permutation method (1).\n",
    "- Get count as difference between permutations and vocabulary (1)."
   ]
  },
  {
   "cell_type": "code",
   "execution_count": 12,
   "id": "ed1c7fa0-cfa3-4cf4-9fd0-9f84b86b0f64",
   "metadata": {},
   "outputs": [
    {
     "name": "stdout",
     "output_type": "stream",
     "text": [
      "4 Dice: Valid words = 11205, Invalid words = 52795\n"
     ]
    }
   ],
   "source": [
    "import itertools\n",
    "\n",
    "with open('scrabble_words.txt') as file:\n",
    "    scrabble_words = set(file.read().splitlines())\n",
    "\n",
    "def is_valid_word(word, scrabble_words):\n",
    "    return word in scrabble_words\n",
    "\n",
    "def count_valid_words_in_permutations(game_results, scrabble_words):\n",
    "    valid_words_count = 0\n",
    "    invalid_words_count = 0\n",
    "\n",
    "    for roll in game_results:\n",
    "        roll_str = ''.join(roll)  \n",
    "        for word_len in range(1, len(roll_str) + 1):\n",
    "            for perm in itertools.permutations(roll_str, word_len):\n",
    "                word = ''.join(perm)\n",
    "                if is_valid_word(word, scrabble_words):\n",
    "                    valid_words_count += 1\n",
    "                else:\n",
    "                    invalid_words_count += 1\n",
    "\n",
    "    return valid_words_count, invalid_words_count\n",
    "\n",
    "def play_game_with_dice(letters, weights, num_rolls=1000, num_dice=4):\n",
    "    game_results = []\n",
    "    for _ in range(num_rolls):\n",
    "        roll_result = [roll_die(letters, weights) for _ in range(num_dice)]\n",
    "        game_results.append(roll_result)\n",
    "    return game_results\n",
    "\n",
    "def roll_die(letters, weights):\n",
    "    import random\n",
    "    return random.choices(letters, weights, k=1)[0]\n",
    "\n",
    "game_results_4_dice = play_game_with_dice(letters, weights, num_rolls=1000, num_dice=4)\n",
    "\n",
    "valid_words_4, invalid_words_4 = count_valid_words_in_permutations(game_results_4_dice, scrabble_words)\n",
    "print(f\"4 Dice: Valid words = {valid_words_4}, Invalid words = {invalid_words_4}\")"
   ]
  },
  {
   "cell_type": "markdown",
   "id": "fcf068cf-381a-4b3e-ac3a-0510eb4dbdb0",
   "metadata": {},
   "source": [
    "Task 4. Repeat steps #2 and #3, this time with $5$ dice. How many actual words does this produce? Which produces more?\n",
    "\n",
    "- Successfully repreats steps (1).\n",
    "- Identifies parameter with most found words (1)."
   ]
  },
  {
   "cell_type": "code",
   "execution_count": 8,
   "id": "d71171ac-4714-4902-9cee-c32838b32e96",
   "metadata": {
    "tags": []
   },
   "outputs": [
    {
     "name": "stdout",
     "output_type": "stream",
     "text": [
      "5 Dice: Valid words = 27525, Invalid words = 297475\n",
      "5 dice produced more valid words.\n"
     ]
    }
   ],
   "source": [
    "game_results_5_dice = play_game_with_dice(letters, weights, num_rolls=1000, num_dice=5)\n",
    "\n",
    "valid_words_5, invalid_words_5 = count_valid_words_in_permutations(game_results_5_dice, scrabble_words)\n",
    "print(f\"5 Dice: Valid words = {valid_words_5}, Invalid words = {invalid_words_5}\")\n",
    "\n",
    "if valid_words_4 > valid_words_5:\n",
    "    print(f\"4 dice produced more valid words.\")\n",
    "else:\n",
    "    print(f\"5 dice produced more valid words.\")"
   ]
  }
 ],
 "metadata": {
  "kernelspec": {
   "display_name": "Python 3 (ipykernel)",
   "language": "python",
   "name": "python3"
  },
  "language_info": {
   "codemirror_mode": {
    "name": "ipython",
    "version": 3
   },
   "file_extension": ".py",
   "mimetype": "text/x-python",
   "name": "python",
   "nbconvert_exporter": "python",
   "pygments_lexer": "ipython3",
   "version": "3.11.4"
  },
  "toc-autonumbering": true,
  "widgets": {
   "application/vnd.jupyter.widget-state+json": {
    "state": {},
    "version_major": 2,
    "version_minor": 0
   }
  }
 },
 "nbformat": 4,
 "nbformat_minor": 5
}
